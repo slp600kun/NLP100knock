{
 "cells": [
  {
   "cell_type": "code",
   "execution_count": 17,
   "metadata": {},
   "outputs": [],
   "source": [
    "#30\n",
    "import MeCab\n",
    "MECAB_SYSTEM_DIC_PATH = '/var/lib/mecab/dic/mecab-ipadic-neologd'\n",
    "\n",
    "def parse_with_mecab(text:str)-> list:\n",
    "    tagger = MeCab.Tagger(f'-r /dev/null -d {MECAB_SYSTEM_DIC_PATH}')\n",
    "    line = text.replace('\\n', '').replace('\\\\n', '')\n",
    "    parse_results = [','.join(line.split('\\t')).split(\n",
    "        ',') for line in tagger.parse(line).split('\\n') if line]\n",
    "    return parse_results\n",
    "\n",
    "txt = open('neko.txt', 'r', encoding='UTF-8')\n",
    "data = txt.read()\n",
    "print(parse_with_mecab(data))"
   ]
  }
 ],
 "metadata": {
  "interpreter": {
   "hash": "916dbcbb3f70747c44a77c7bcd40155683ae19c65e1c03b4aa3499c5328201f1"
  },
  "kernelspec": {
   "display_name": "Python 3.8.10 64-bit",
   "language": "python",
   "name": "python3"
  },
  "language_info": {
   "codemirror_mode": {
    "name": "ipython",
    "version": 3
   },
   "file_extension": ".py",
   "mimetype": "text/x-python",
   "name": "python",
   "nbconvert_exporter": "python",
   "pygments_lexer": "ipython3",
   "version": "3.8.10"
  },
  "orig_nbformat": 4
 },
 "nbformat": 4,
 "nbformat_minor": 2
}

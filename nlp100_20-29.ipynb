{
 "cells": [
  {
   "cell_type": "code",
   "execution_count": null,
   "metadata": {},
   "outputs": [],
   "source": [
    "#20\n",
    "import ast\n",
    "\n",
    "with open(\"jawiki-country.json\") as f:\n",
    "    for line in f.readlines():\n",
    "        dic = ast.literal_eval(line)\n",
    "        if dic[\"title\"] == \"イギリス\":\n",
    "            print(dic[\"text\"])\n",
    "            exit()"
   ]
  },
  {
   "cell_type": "code",
   "execution_count": null,
   "metadata": {},
   "outputs": [],
   "source": [
    "#21\n",
    "import ast,re\n",
    "\n",
    "with open(\"jawiki-country.json\") as f:\n",
    "    for line in f.readlines():\n",
    "        dic = ast.literal_eval(line)\n",
    "        if dic[\"title\"] == \"イギリス\":\n",
    "            list = re.findall(r'(\\[Category.*?\\])[\\]]',dic[\"text\"])\n",
    "            [print(l) for l in list]"
   ]
  },
  {
   "cell_type": "code",
   "execution_count": null,
   "metadata": {},
   "outputs": [],
   "source": [
    "#22\n",
    "import ast,re\n",
    "\n",
    "with open(\"jawiki-country.json\") as f:\n",
    "    for line in f.readlines():\n",
    "        dic = ast.literal_eval(line)\n",
    "        if dic[\"title\"] == \"イギリス\":\n",
    "            list = re.findall(r'Category:(.*?)[\\]]',dic[\"text\"])\n",
    "            [print(l) for l in list]\n"
   ]
  },
  {
   "cell_type": "code",
   "execution_count": null,
   "metadata": {},
   "outputs": [],
   "source": [
    "#22\n",
    "import ast,re\n",
    "\n",
    "with open(\"jawiki-country.json\") as f:\n",
    "    for line in f.readlines():\n",
    "        dic = ast.literal_eval(line)\n",
    "        if dic[\"title\"] == \"イギリス\":\n",
    "            list = re.findall(r'Category:(.*?)[\\]]',dic[\"text\"])\n",
    "            [print(l) for l in list]"
   ]
  },
  {
   "cell_type": "code",
   "execution_count": null,
   "metadata": {},
   "outputs": [],
   "source": [
    "#23\n",
    "import ast,re\n",
    "\n",
    "with open(\"jawiki-country.json\") as f:\n",
    "    for line in f.readlines():\n",
    "        dic = ast.literal_eval(line)\n",
    "        if dic[\"title\"] == \"イギリス\":\n",
    "            section = re.findall(r'\\=+(.*[^=])[\\=]{2,}' ,dic[\"text\"])\n",
    "            equal = re.findall(r'(\\=+).*[^=][\\=]{2,}' ,dic[\"text\"])\n",
    "            [print(sec.replace(' ', ''),len(level)-1) for sec,level in zip(section,equal)]\n"
   ]
  },
  {
   "cell_type": "code",
   "execution_count": null,
   "metadata": {},
   "outputs": [],
   "source": [
    "#24\n",
    "import ast,re,os\n",
    "\n",
    "with open(\"jawiki-country.json\") as f:\n",
    "    for line in f.readlines():\n",
    "        dic = ast.literal_eval(line)\n",
    "        if dic[\"title\"] == \"イギリス\":\n",
    "            filename = re.findall(r'\\[\\[ファイル:(.+?)\\|',dic['text'])\n",
    "            print(filename) "
   ]
  },
  {
   "cell_type": "code",
   "execution_count": null,
   "metadata": {},
   "outputs": [],
   "source": [
    "#25\n",
    "import ast,re,os,pprint\n",
    "\n",
    "with open(\"jawiki-country.json\") as f:\n",
    "    for line in f.readlines():\n",
    "        dic = ast.literal_eval(line)\n",
    "        if dic[\"title\"] == \"イギリス\":\n",
    "            dictext = dic[\"text\"].split('\\n')\n",
    "            text = \"\"\n",
    "            for i in dictext:\n",
    "                text = text + i\n",
    "                if i == \"}}\":\n",
    "                    break\n",
    "            text = re.search(r\"\\{\\{基礎情報 国.*\",text)\n",
    "            text = text.group()\n",
    "            text = re.sub(' ','',text)\n",
    "            text_key = re.findall(r'\\|(.?[^|=]+)=',text)\n",
    "            text_value = re.findall(r'=(.?[^|]+)(\\||\\}{2})',text)\n",
    "            text_value = [i[0] for i in text_value]\n",
    "            d = dict(zip(text_key, text_value))\n",
    "            pprint.pprint(d)"
   ]
  },
  {
   "cell_type": "code",
   "execution_count": null,
   "metadata": {},
   "outputs": [],
   "source": [
    "#26\n",
    "import ast,re,os\n",
    "\n",
    "with open(\"jawiki-country.json\") as f:\n",
    "    for line in f.readlines():\n",
    "        dic = ast.literal_eval(line)\n",
    "        if dic[\"title\"] == \"イギリス\":\n",
    "            dictext = dic[\"text\"].split('\\n')\n",
    "            text = \"\"\n",
    "            for i in dictext:\n",
    "                text = text + i\n",
    "                if i == \"}}\":\n",
    "                    break\n",
    "            text = re.search(r\"\\{\\{基礎情報 国.*\",text)\n",
    "            text = text.group()\n",
    "            text = re.sub(' ','',text)\n",
    "            text_key = re.findall(r'\\|(.?[^|=]+)=',text)\n",
    "            text_value = re.findall(r'=(.?[^|]+)(\\||\\}{2})',text)\n",
    "            text_value = [re.sub(r'\\'{2,}',\"\",value[0]) for value in text_value]\n",
    "            d = dict(zip(text_key, text_value))\n",
    "            print(d)"
   ]
  },
  {
   "cell_type": "code",
   "execution_count": null,
   "metadata": {},
   "outputs": [],
   "source": [
    "#27\n",
    "import ast,re,os\n",
    "\n",
    "with open(\"jawiki-country.json\") as f:\n",
    "    for line in f.readlines():\n",
    "        dic = ast.literal_eval(line)\n",
    "        if dic[\"title\"] == \"イギリス\":\n",
    "            dictext = dic[\"text\"].split('\\n')\n",
    "            text = \"\"\n",
    "            for i in dictext:\n",
    "                text = text + i\n",
    "                if i == \"}}\":\n",
    "                    break\n",
    "            text = re.search(r\"\\{\\{基礎情報 国.*\",text)\n",
    "            text = text.group()\n",
    "            text = re.sub(' ','',text)\n",
    "            text_key = re.findall(r'\\|(.?[^|=]+)=',text)\n",
    "            text_value = re.findall(r'=(.?[^|]+)(\\||\\}{2})',text)\n",
    "            text_value = [re.sub(r'\\'{2,}',\"\",value[0]) for value in text_value]\n",
    "            text_value = [re.sub(r'\\[\\[|\\]\\]',\"\",value) for value in text_value]\n",
    "            d = dict(zip(text_key, text_value))\n",
    "            print(d)"
   ]
  },
  {
   "cell_type": "code",
   "execution_count": null,
   "metadata": {},
   "outputs": [],
   "source": [
    "#27\n",
    "import ast,re,os,pprint\n",
    "\n",
    "with open(\"jawiki-country.json\") as f:\n",
    "    for line in f.readlines():\n",
    "        dic = ast.literal_eval(line)\n",
    "        if dic[\"title\"] == \"イギリス\":\n",
    "            dictext = dic[\"text\"].split('\\n')\n",
    "            text = \"\"\n",
    "            for i in dictext:\n",
    "                text = text + i\n",
    "                if i == \"}}\":\n",
    "                    break\n",
    "            text = re.search(r\"\\{\\{基礎情報 国.*\",text)\n",
    "            text = text.group()\n",
    "            text = re.sub(' ','',text)\n",
    "            text_key = re.findall(r'\\|(.?[^|=]+)=',text)\n",
    "            text_value = re.findall(r'=(.?[^|]+)(\\||\\}{2})',text)\n",
    "            text_value = [re.sub(r'\\'{2,}',\"\",value[0]) for value in text_value]\n",
    "            text_value = [re.sub(r'\\[\\[|\\]\\]|\\{\\{lang\\|[a-z]{2,3}\\||\\{\\{|\\}\\}|<.+?>|\\[http.+?\\]' \\\n",
    "                            ,\"\",value) for value in text_value]\n",
    "            d = dict(zip(text_key, text_value))\n",
    "            pprint.pprint(d) "
   ]
  },
  {
   "cell_type": "code",
   "execution_count": null,
   "metadata": {},
   "outputs": [],
   "source": [
    "#29\n",
    "import ast,re,os,pprint\n",
    "\n",
    "with open(\"jawiki-country.json\") as f:\n",
    "    for line in f.readlines():\n",
    "        dic = ast.literal_eval(line)\n",
    "        if dic[\"title\"] == \"イギリス\":\n",
    "            dictext = dic[\"text\"].split('\\n')\n",
    "            text = \"\"\n",
    "            for i in dictext:\n",
    "                text = text + i\n",
    "                if i == \"}}\":\n",
    "                    break\n",
    "            text = re.search(r\"\\{\\{基礎情報 国.*\",text)\n",
    "            text = text.group()\n",
    "            text = re.sub(' ','',text)\n",
    "            text_key = re.findall(r'\\|(.?[^|=]+)=',text)\n",
    "            text_value = re.findall(r'=(.?[^|]+)(\\||\\}{2})',text)\n",
    "            text_value = [re.sub(r'\\'{2,}',\"\",value[0]) for value in text_value]\n",
    "            text_value = [re.sub(r'\\[\\[|\\]\\]|\\{\\{lang\\|[a-z]{2,3}\\||\\{\\{|\\}\\}|<.+?>|\\[http.+?\\]' \\\n",
    "                            ,\"\",value) for value in text_value]\n",
    "            d = dict(zip(text_key, text_value))\n",
    "            print(d[\"国旗画像\"])"
   ]
  }
 ],
 "metadata": {
  "interpreter": {
   "hash": "916dbcbb3f70747c44a77c7bcd40155683ae19c65e1c03b4aa3499c5328201f1"
  },
  "kernelspec": {
   "display_name": "Python 3.8.10 64-bit",
   "language": "python",
   "name": "python3"
  },
  "language_info": {
   "codemirror_mode": {
    "name": "ipython",
    "version": 3
   },
   "file_extension": ".py",
   "mimetype": "text/x-python",
   "name": "python",
   "nbconvert_exporter": "python",
   "pygments_lexer": "ipython3",
   "version": "3.8.10"
  },
  "orig_nbformat": 4
 },
 "nbformat": 4,
 "nbformat_minor": 2
}

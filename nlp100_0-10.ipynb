{
 "cells": [
  {
   "cell_type": "code",
   "execution_count": 1,
   "metadata": {},
   "outputs": [
    {
     "name": "stdout",
     "output_type": "stream",
     "text": [
      "desserts\n"
     ]
    }
   ],
   "source": [
    "#00\n",
    "str00 = \"stressed\"\n",
    "revstr00 =str00[::-1]\n",
    "print(revstr00)\n"
   ]
  },
  {
   "cell_type": "code",
   "execution_count": 2,
   "metadata": {},
   "outputs": [
    {
     "name": "stdout",
     "output_type": "stream",
     "text": [
      "パトカー\n"
     ]
    }
   ],
   "source": [
    "#01\n",
    "str01 = \"パタトクカシーー\"\n",
    "print(str01[::2])\n"
   ]
  },
  {
   "cell_type": "code",
   "execution_count": 29,
   "metadata": {},
   "outputs": [
    {
     "name": "stdout",
     "output_type": "stream",
     "text": [
      "パタトクカシーー\n"
     ]
    }
   ],
   "source": [
    "#02\n",
    "str02_1 = \"パトカー\"\n",
    "str02_2 = \"タクシー\"\n",
    "print(''.join([i+j for i,j in zip(str02_1,str02_2)]))\n",
    "    "
   ]
  },
  {
   "cell_type": "code",
   "execution_count": 21,
   "metadata": {},
   "outputs": [
    {
     "name": "stdout",
     "output_type": "stream",
     "text": [
      "['Now', 'I', 'need', 'a', 'drink', 'alcoholic', 'of', 'course', 'after', 'the', 'heavy', 'lectures', 'involving', 'quantum', 'mechanics']\n"
     ]
    }
   ],
   "source": [
    "#03\n",
    "str03 = \"Now I need a drink, alcoholic of course, after the heavy lectures involving quantum mechanics.\"\n",
    "list03 = str03.split(' ')\n",
    "new_list_03 = []\n",
    "for word in list03:\n",
    "    word = word.replace(',','')\n",
    "    word = word.replace('.','')\n",
    "    new_list_03.append(word)\n",
    "print(new_list_03)       \n"
   ]
  },
  {
   "cell_type": "code",
   "execution_count": 36,
   "metadata": {},
   "outputs": [
    {
     "name": "stdout",
     "output_type": "stream",
     "text": [
      "{'H': 1, 'He': 2, 'Li': 3, 'Be': 4, 'B': 5, 'C': 6, 'N': 7, 'O': 8, 'F': 9, 'Ne': 10, 'Na': 11, 'Mi': 12, 'Al': 13, 'Si': 14, 'P': 15, 'S': 16, 'Cl': 17, 'Ar': 18, 'K': 19, 'Ca': 20}\n"
     ]
    }
   ],
   "source": [
    "#04\n",
    "str04 = \"Hi He Lied Because Boron Could Not Oxidize Fluorine. New Nations Might Also Sign Peace Security Clause. Arthur King Can.\"\n",
    "list04 = str04.split(' ')\n",
    "dic = {}\n",
    "s = [1,5,6,7,8,9,15,16,19]\n",
    "for word in list04:\n",
    "    num = list04.index(word)+1\n",
    "    if num in s:\n",
    "        dic[word[:1]] = num\n",
    "    else:\n",
    "        dic[word[:2]] = num\n",
    "print(dic)\n"
   ]
  },
  {
   "cell_type": "code",
   "execution_count": 44,
   "metadata": {},
   "outputs": [
    {
     "name": "stdout",
     "output_type": "stream",
     "text": [
      "[['I', 'am'], ['an', 'NLPer']]\n",
      "['I ', 'am', ' a', 'n ', 'NL', 'Pe', 'r']\n"
     ]
    }
   ],
   "source": [
    "#05\n",
    "def ngram(target,n):\n",
    "    return [target[i:i+n] for i in range(0,len(target),n)]\n",
    "\n",
    "target = \"I am an NLPer\"\n",
    "word = target.split(' ')\n",
    "print(ngram(word,2))\n",
    "print(ngram(target,2))   "
   ]
  },
  {
   "cell_type": "code",
   "execution_count": 58,
   "metadata": {},
   "outputs": [
    {
     "name": "stdout",
     "output_type": "stream",
     "text": [
      "{'ra', 'pa', 'di', 'se'} {'gr', 'pa', 'ra', 'h', 'ap'}\n",
      "{'gr', 'se', 'di', 'pa', 'ra', 'h', 'ap'} {'ra', 'pa'} {'di', 'se'}\n",
      "True\n",
      "False\n"
     ]
    }
   ],
   "source": [
    "#06\n",
    "#n-gram function\n",
    "def ngram(target,n):\n",
    "    return [target[i:i+n] for i in range(0,len(target),n)]\n",
    "\n",
    "word1 = \"paraparaparadise\"\n",
    "word2 = \"paragraph\"\n",
    "X = set(ngram(word1,2))\n",
    "Y = set(ngram(word2,2))\n",
    "print(X,Y)\n",
    "union = X | Y\n",
    "inter = X & Y\n",
    "differ = X - Y\n",
    "print(union,inter,differ)\n",
    "print('se' in X)\n",
    "print('se' in Y)"
   ]
  },
  {
   "cell_type": "code",
   "execution_count": 60,
   "metadata": {},
   "outputs": [
    {
     "name": "stdout",
     "output_type": "stream",
     "text": [
      "12時の気温は22.4\n"
     ]
    }
   ],
   "source": [
    "#07\n",
    "def time(x,y,z):\n",
    "    return print(str(x)+\"時の\"+y+\"は\"+str(z))\n",
    "\n",
    "time(12,\"気温\",22.4)"
   ]
  },
  {
   "cell_type": "code",
   "execution_count": 79,
   "metadata": {},
   "outputs": [
    {
     "name": "stdout",
     "output_type": "stream",
     "text": [
      "暗号化: Nvd Wliow\n",
      "復号化: New World\n"
     ]
    }
   ],
   "source": [
    "#08\n",
    "import chardet\n",
    "\n",
    "def cipher(str):\n",
    "    newstr=\"\"\n",
    "    for le in str:\n",
    "        if le.islower() == 1:\n",
    "            le=chr(219 - ord(le))\n",
    "            newstr +=le\n",
    "        else:\n",
    "            newstr += le\n",
    "    return newstr\n",
    "\n",
    "message = \"New World\"\n",
    "message = cipher(message)\n",
    "print('暗号化:',message)\n",
    "message = cipher(message)\n",
    "print('復号化:',message)"
   ]
  },
  {
   "cell_type": "code",
   "execution_count": 10,
   "metadata": {},
   "outputs": [
    {
     "name": "stdout",
     "output_type": "stream",
     "text": [
      "I coludn't blvieee that I cuold alauctly unrdstnead what I was rdeaing  the pheaeonmnl pweor of the hmuan mind  \n"
     ]
    }
   ],
   "source": [
    "#09\n",
    "import random\n",
    "\n",
    "def randomtext(str):\n",
    "    wordlist = []\n",
    "    newstr =\"\"\n",
    "    wordsplit = str.split(' ')\n",
    "    #前処理\n",
    "    for word in wordsplit:\n",
    "        word = word.replace('.','').replace(':','')\n",
    "        wordlist.append(word)\n",
    "    for word in wordlist:\n",
    "        if len(word) >=5:\n",
    "            le = word[1:-1]\n",
    "            word_shuffle = ''.join(random.sample(le,len(le)))\n",
    "            word = word[0]+word_shuffle+word[-1:]\n",
    "        else:\n",
    "            pass\n",
    "        newstr += word\n",
    "        newstr += \" \"\n",
    "    return newstr\n",
    "\n",
    "def ngram(target,n):\n",
    "    return [target[i:i+n] for i in range(0,len(target),n)]\n",
    "\n",
    "text = \"I couldn't believe that I could actually understand what I was reading : the phenomenal power of the human mind .\"\n",
    "print(randomtext(text))\n",
    "\n"
   ]
  },
  {
   "cell_type": "code",
   "execution_count": 3,
   "metadata": {},
   "outputs": [
    {
     "name": "stdout",
     "output_type": "stream",
     "text": [
      "ewspor\n"
     ]
    }
   ],
   "source": [
    "word = \"newsport\"\n",
    "print(word[1:-1])"
   ]
  }
 ],
 "metadata": {
  "interpreter": {
   "hash": "916dbcbb3f70747c44a77c7bcd40155683ae19c65e1c03b4aa3499c5328201f1"
  },
  "kernelspec": {
   "display_name": "Python 3.8.10 64-bit",
   "language": "python",
   "name": "python3"
  },
  "language_info": {
   "codemirror_mode": {
    "name": "ipython",
    "version": 3
   },
   "file_extension": ".py",
   "mimetype": "text/x-python",
   "name": "python",
   "nbconvert_exporter": "python",
   "pygments_lexer": "ipython3",
   "version": "3.8.10"
  },
  "orig_nbformat": 4
 },
 "nbformat": 4,
 "nbformat_minor": 2
}

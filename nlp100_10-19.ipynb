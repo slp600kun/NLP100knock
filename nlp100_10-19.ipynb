{
 "cells": [
  {
   "cell_type": "code",
   "execution_count": 7,
   "metadata": {},
   "outputs": [
    {
     "name": "stdout",
     "output_type": "stream",
     "text": [
      "2780\n"
     ]
    }
   ],
   "source": [
    "#10\n",
    "f = open('popular-names.txt', 'r')\n",
    "print(sum([1 for i in f]))"
   ]
  },
  {
   "cell_type": "code",
   "execution_count": 9,
   "metadata": {},
   "outputs": [],
   "source": [
    "#11\n",
    "with open('popular-names.txt') as f:\n",
    "    data_lines = f.read()\n",
    "data_lines = data_lines.replace(\"\t\", \" \")\n",
    "with open('popular-names.txt',mode=\"w\") as f:\n",
    "    f.write(data_lines)"
   ]
  },
  {
   "cell_type": "code",
   "execution_count": 5,
   "metadata": {},
   "outputs": [],
   "source": [
    "#12\n",
    "col1 = []\n",
    "col2 = []\n",
    "with open('popular-names.txt') as f:\n",
    "    data_lines = f.readlines()\n",
    "    for line in data_lines:\n",
    "        list = line.split()\n",
    "        col1.append(list[0])\n",
    "        col2.append(list[1])\n",
    "with open('col1.txt','w',newline='\\n') as f:\n",
    "    f.write('\\n'.join(col1))\n",
    "with open('col2.txt','w',newline='\\n') as f:\n",
    "    f.write('\\n'.join(col2))"
   ]
  },
  {
   "cell_type": "code",
   "execution_count": 11,
   "metadata": {},
   "outputs": [],
   "source": [
    "#13\n",
    "import re\n",
    "\n",
    "col_marge = []\n",
    "with open('col1.txt',newline='\\n') as f:\n",
    "    col1 = f.readlines()\n",
    "    col1 = [re.sub('\\n','',s) for s in col1]\n",
    "with open('col2.txt',newline='\\n') as f:\n",
    "    col2 = f.readlines()\n",
    "    col2 = [re.sub('\\n','',s) for s in col2]\n",
    "for i,j in zip(col1,col2):\n",
    "    col_marge.append(i + '   ' + j)\n",
    "with open('col_marge.txt','w',newline='\\n') as f:\n",
    "    f.write('\\n'.join(col_marge))"
   ]
  },
  {
   "cell_type": "code",
   "execution_count": 32,
   "metadata": {},
   "outputs": [
    {
     "name": "stdout",
     "output_type": "stream",
     "text": [
      "                       0\n",
      "0       Mary F 7065 1880\n",
      "1       Anna F 2604 1880\n",
      "2       Emma F 2003 1880\n",
      "3  Elizabeth F 1939 1880\n",
      "4     Minnie F 1746 1880\n"
     ]
    }
   ],
   "source": [
    "#14\n",
    "import pandas as pd\n",
    "\n",
    "def head(n):\n",
    "    with open('popular-names.txt') as f:\n",
    "        datalines = f.readlines()\n",
    "        datalines = [re.sub('\\n','',s) for s in datalines]\n",
    "        df = pd.DataFrame(data=datalines)\n",
    "    print(df.head(n))\n",
    "\n",
    "head(5)"
   ]
  },
  {
   "cell_type": "code",
   "execution_count": 33,
   "metadata": {},
   "outputs": [
    {
     "name": "stdout",
     "output_type": "stream",
     "text": [
      "                          0\n",
      "2775  Benjamin M 13381 2018\n",
      "2776    Elijah M 12886 2018\n",
      "2777     Lucas M 12585 2018\n",
      "2778     Mason M 12435 2018\n",
      "2779     Logan M 12352 2018\n"
     ]
    }
   ],
   "source": [
    "#15\n",
    "import pandas as pd\n",
    "\n",
    "def tail(n):\n",
    "    with open('popular-names.txt') as f:\n",
    "        datalines = f.readlines()\n",
    "        datalines = [re.sub('\\n','',s) for s in datalines]\n",
    "        df = pd.DataFrame(data=datalines)\n",
    "    print(df.tail(n))\n",
    "\n",
    "tail(5)"
   ]
  },
  {
   "cell_type": "code",
   "execution_count": 66,
   "metadata": {},
   "outputs": [
    {
     "name": "stdout",
     "output_type": "stream",
     "text": [
      "                          0\n",
      "0          Mary F 7065 1880\n",
      "1          Anna F 2604 1880\n",
      "2          Emma F 2003 1880\n",
      "3     Elizabeth F 1939 1880\n",
      "4        Minnie F 1746 1880\n",
      "...                     ...\n",
      "1385    Sandra F 30642 1949\n",
      "1386     Nancy F 29246 1949\n",
      "1387     Carol F 26783 1949\n",
      "1388  Kathleen F 26354 1949\n",
      "1389    Sharon F 25711 1949\n",
      "\n",
      "[1390 rows x 1 columns]\n",
      "                          0\n",
      "1390     James M 86857 1949\n",
      "1391    Robert M 83872 1949\n",
      "1392      John M 81161 1949\n",
      "1393   William M 61501 1949\n",
      "1394   Michael M 60046 1949\n",
      "...                     ...\n",
      "2775  Benjamin M 13381 2018\n",
      "2776    Elijah M 12886 2018\n",
      "2777     Lucas M 12585 2018\n",
      "2778     Mason M 12435 2018\n",
      "2779     Logan M 12352 2018\n",
      "\n",
      "[1390 rows x 1 columns]\n"
     ]
    }
   ],
   "source": [
    "#16\n",
    "import pandas as pd\n",
    "\n",
    "def split(n):\n",
    "    with open('popular-names.txt') as f:\n",
    "        datalines = f.readlines()\n",
    "        datalines = [re.sub('\\n','',s) for s in datalines]\n",
    "        df = pd.DataFrame(data=datalines)\n",
    "        for num in range(n):\n",
    "            df1 = df[int(len(df)*num/n) : int(len(df)*(num+1)/n)]\n",
    "            print(df1)\n",
    "\n",
    "split(2)\n"
   ]
  },
  {
   "cell_type": "code",
   "execution_count": 105,
   "metadata": {},
   "outputs": [
    {
     "name": "stdout",
     "output_type": "stream",
     "text": [
      "136\n"
     ]
    }
   ],
   "source": [
    "#17\n",
    "import re\n",
    "col1=[]\n",
    "with open('popular-names.txt') as f:\n",
    "        datalines = f.readlines()\n",
    "        datalines = [re.sub('\\n','',s) for s in datalines]\n",
    "        for line in data_lines:\n",
    "                list = line.split()\n",
    "                col1.append(list[0])\n",
    "print(len(set(col1)))        "
   ]
  },
  {
   "cell_type": "code",
   "execution_count": 121,
   "metadata": {},
   "outputs": [
    {
     "name": "stdout",
     "output_type": "stream",
     "text": [
      "         name sex  number  year\n",
      "1340    Linda   F   99689  1947\n",
      "1360    Linda   F   96211  1948\n",
      "1350    James   M   94757  1947\n",
      "1550  Michael   M   92704  1957\n",
      "1351   Robert   M   91640  1947\n",
      "...       ...  ..     ...   ...\n",
      "27      Annie   F    1326  1881\n",
      "28     Bertha   F    1324  1881\n",
      "8      Bertha   F    1320  1880\n",
      "29      Alice   F    1308  1881\n",
      "9       Sarah   F    1288  1880\n",
      "\n",
      "[2780 rows x 4 columns]\n"
     ]
    }
   ],
   "source": [
    "#18\n",
    "import pandas as pd\n",
    "    \n",
    "df = pd.read_table(\"popular-names.txt\", sep=' ', names=['name', 'sex', 'number', 'year']) \n",
    "print(df.sort_values(by=['number'],ascending=False))\n"
   ]
  },
  {
   "cell_type": "code",
   "execution_count": 127,
   "metadata": {},
   "outputs": [
    {
     "name": "stdout",
     "output_type": "stream",
     "text": [
      "James      118\n",
      "William    111\n",
      "Robert     108\n",
      "John       108\n",
      "Mary        92\n",
      "          ... \n",
      "Scott        1\n",
      "Rachel       1\n",
      "Kelly        1\n",
      "Crystal      1\n",
      "Lucas        1\n",
      "Name: name, Length: 136, dtype: int64\n"
     ]
    }
   ],
   "source": [
    "#19\n",
    "import pandas as pd\n",
    "    \n",
    "df = pd.read_table(\"popular-names.txt\", sep=' ', names=['name', 'sex', 'number', 'year']) \n",
    "print(df['name'].value_counts())"
   ]
  }
 ],
 "metadata": {
  "interpreter": {
   "hash": "916dbcbb3f70747c44a77c7bcd40155683ae19c65e1c03b4aa3499c5328201f1"
  },
  "kernelspec": {
   "display_name": "Python 3.8.10 64-bit",
   "language": "python",
   "name": "python3"
  },
  "language_info": {
   "codemirror_mode": {
    "name": "ipython",
    "version": 3
   },
   "file_extension": ".py",
   "mimetype": "text/x-python",
   "name": "python",
   "nbconvert_exporter": "python",
   "pygments_lexer": "ipython3",
   "version": "3.8.10"
  },
  "orig_nbformat": 4
 },
 "nbformat": 4,
 "nbformat_minor": 2
}
